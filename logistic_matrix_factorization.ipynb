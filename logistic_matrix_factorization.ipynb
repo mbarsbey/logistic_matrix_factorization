{
 "cells": [
  {
   "cell_type": "markdown",
   "metadata": {
    "collapsed": true
   },
   "source": [
    "## Logistic matrix factorization"
   ]
  },
  {
   "cell_type": "markdown",
   "metadata": {},
   "source": [
    "Please see the comments below for more information on the source code."
   ]
  },
  {
   "cell_type": "code",
   "execution_count": 333,
   "metadata": {
    "collapsed": true
   },
   "outputs": [],
   "source": [
    "#importing required libraries\n",
    "import numpy as np\n",
    "import pandas as pd\n",
    "import numpy as np\n",
    "from matplotlib.pyplot import imshow\n",
    "from scipy.stats import uniform\n",
    "import matplotlib.pyplot as plt\n",
    "from scipy.stats import norm, bernoulli\n",
    "%matplotlib inline"
   ]
  },
  {
   "cell_type": "markdown",
   "metadata": {
    "collapsed": true
   },
   "source": [
    "### Question 1"
   ]
  },
  {
   "cell_type": "markdown",
   "metadata": {},
   "source": [
    "Below are the helper functions needed throughout the notebook"
   ]
  },
  {
   "cell_type": "code",
   "execution_count": 705,
   "metadata": {
    "collapsed": true
   },
   "outputs": [],
   "source": [
    "def sample_column_vector(size=1, dist=\"G\"):\n",
    "    if \"G\":\n",
    "        return norm(0, 5).rvs(size=size).reshape(size,-1)\n",
    "    if \"U\":\n",
    "        return uniform(-1,2).rvs(size=size).reshape(size, -1)\n",
    "def binarize(Y):\n",
    "    Y[Y<=0] = 0\n",
    "    Y[Y>0] = 1\n",
    "    return Y\n",
    "def bernoulli_matrix(Y):\n",
    "    for i in range(Y.shape[0]):\n",
    "        for j in range(Y.shape[1]):\n",
    "            Y[i, j] = bernoulli(Y[i, j]).rvs()\n",
    "    return Y\n",
    "def create_observation_matrix(I=10, J=20):\n",
    "    W = sample_column_vector(size=I)\n",
    "    H = sample_column_vector(size=J)\n",
    "    Y = bernoulli_matrix(sigmoid(W @ H.T))\n",
    "    return Y, W, H\n",
    "def sigmoid(o):\n",
    "    return 1. / (1 + np.exp(-o))\n",
    "def make_sigmoid_matrix(W, H):\n",
    "    return(sigmoid(W @ H.T))\n",
    "def log_likelihood(Y, W, H):\n",
    "    L = Y*np.log(sigmoid(W @ H.T)) + (1-Y)*np.log(1-sigmoid(W @ H.T))\n",
    "    return L.sum()\n",
    "def calc_dW(Y, W, H):\n",
    "    return (Y - make_sigmoid_matrix(W, H)) @ H\n",
    "def calc_dH(Y, W, H):\n",
    "    return (Y - make_sigmoid_matrix(W, H)).T @ W\n",
    "def calc_dW_post(Y, W, H):\n",
    "    return (Y - make_sigmoid_matrix(W, H)) @ H - W\n",
    "def calc_dH_post(Y, W, H):\n",
    "    return (Y - make_sigmoid_matrix(W, H)).T @ W - H\n",
    "def plot_L_history(L_history):\n",
    "    fig, ax = plt.subplots(1)\n",
    "    ax.plot(range(len(L_history)), L_history)\n",
    "    ax.set_title(\"Log likelihood through AGD iterations\")\n",
    "def alternating_gradient_descent(Y, W, H, no_iteration=10, eta = 0.01, posterior=False):\n",
    "    I, J = Y.shape\n",
    "    L_history = []\n",
    "    dW = 1; dH = 1;\n",
    "    for i in range(no_iteration):\n",
    "    #while (np.abs(dW).sum() + np.abs(dH).sum() > 1):\n",
    "        if posterior:\n",
    "            dW = calc_dW_post(Y, W, H)\n",
    "        else:\n",
    "            dW = calc_dW(Y, W, H)\n",
    "        W = W + eta*dW\n",
    "        if posterior:\n",
    "            dH = calc_dH_post(Y, W, H)\n",
    "        else:\n",
    "            dH = calc_dH(Y, W, H)\n",
    "        H = H + eta*dH\n",
    "        L_history.append(log_likelihood(Y, W, H))\n",
    "    return W, H, L_history  \n",
    "\n",
    "def evaluate_classification(Y, W, H):\n",
    "    TP = 0; FP = 0; TN = 0; FN = 0;\n",
    "    Y_hat = binarize(W @ H.T)\n",
    "    total = Y.shape.sum()\n",
    "    for i in Y.shape[0]:\n",
    "        for j in Y.shape[1]:\n",
    "            if Y[i,j] == 1:\n",
    "                if Y_hat[i, j] == 1:\n",
    "                    TP += 1\n",
    "                else:\n",
    "                    FN += 1\n",
    "            else:\n",
    "                if Y_hat[i, j] == 1:\n",
    "                    FP += 1\n",
    "                else:\n",
    "                    TN += 1\n",
    "    accuracy = (TP + TN) / total\n",
    "    precision = (TP) / (TP + FP)\n",
    "    recall = (TP) / (TP + FN)\n",
    "    F1_score = (2*precision*recall)/(precision + recall)\n",
    "    return accuracy, precision, recall, F1_score   \n",
    "\n",
    "def plot_matrix_comparison(Y, W, H):\n",
    "    fig, axes = plt.subplots(1, 2,figsize=(16,32))\n",
    "    axes[0].imshow(Y);\n",
    "    axes[1].imshow(make_sigmoid_matrix(W, H));\n",
    "def run_experiment(I=10, J=20, no_iteration=100, eta = 0.01):\n",
    "    Y, W_orig, H_orig = create_observation_matrix(I, J)\n",
    "    W = sample_column_vector(I, dist=\"U\") # sampling initial W H values\n",
    "    H = sample_column_vector(J, dist=\"U\")\n",
    "    W, H, L_history = alternating_gradient_descent(Y, W, H, no_iteration, eta)\n",
    "    return Y, W, H, L_history\n",
    "\n",
    "def plot_experiment_1(Y, W, H, L_history):\n",
    "    fig, axes = plt.subplots(2,2, figsize=(14,8))\n",
    "    axes[0,0].set_title(\"Log likelihood through iterations\")\n",
    "    axes[0,1].plot(range(len(L_history)), L_history)\n",
    "    axes[0,0].set_title(\"Original noisy matrix\")\n",
    "    axes[0,0].imshow(Y)\n",
    "    axes[1,0].set_title(\"Reconstruction\")\n",
    "    axes[1,0].imshow(make_sigmoid_matrix(W, H))\n",
    "    axes[1,1].set_title(\"Reconstruction binarized\")\n",
    "    axes[1,1].imshow(binarize(W @ H.T))\n",
    "    axes_tick = [axes[0,0], axes[1,0], axes[1,1]]\n",
    "    turn_off_ticklabels(axes_tick)\n",
    "    return fig, axes\n",
    "def turn_off_ticklabels(axes):\n",
    "    try :\n",
    "        for ax in axes.flatten():\n",
    "            ax.set_yticklabels([])\n",
    "            ax.set_xticklabels([])\n",
    "    except AttributeError:\n",
    "        for ax in axes:\n",
    "            ax.set_yticklabels([])\n",
    "            ax.set_xticklabels([])            \n",
    "def expectation_maximization(Y, present_value_ratio, iterations=200):\n",
    "    #randomly initiate W and H \n",
    "    I = Y.shape[0]\n",
    "    J = Y.shape[1]\n",
    "    Y_orig = Y.copy()\n",
    "    mask = create_mask_matrix(I, J, present_value_ratio)\n",
    "    W = sample_column_vector(I, dist=\"U\") # sampling initial W H values\n",
    "    H = sample_column_vector(J, dist=\"U\")\n",
    "    total_L_history = []\n",
    "    for i in range(iterations):\n",
    "        #the E step\n",
    "        e_step(Y, mask, W, H)\n",
    "        #the M step\n",
    "        W, H, L_history = alternating_gradient_descent(Y, W, H, no_iteration=100, eta = 0.01, posterior=True)\n",
    "        total_L_history += L_history\n",
    "    return W, H, Y_orig, mask, total_L_history\n",
    "\n",
    "def plot_expectation_maximization(Y_orig, mask, W, H):\n",
    "    fig, axes = plt.subplots(2,2, figsize=(14,8))\n",
    "    axes[0,0].set_title(\"Original noisy matrix\")\n",
    "    axes[0,0].imshow(Y_orig)\n",
    "    axes[0,1].set_title(\"Masked matrix\")\n",
    "    mask_plot= mask.copy()\n",
    "    mask_plot[mask_plot==0] = np.nan\n",
    "    current_cmap = matplotlib.cm.get_cmap()\n",
    "    current_cmap.set_bad(color='white')\n",
    "    axes[0,1].imshow(Y*(mask_plot))\n",
    "    axes[1,0].set_title(\"Reconstruction\")\n",
    "    axes[1,0].imshow(make_sigmoid_matrix(W, H))\n",
    "    axes[1,1].set_title(\"Reconstruction binarized\")\n",
    "    axes[1,1].imshow(binarize(W @ H.T))\n",
    "    turn_off_ticklabels(axes)\n",
    "    return fig, axes\n",
    "def create_mask_matrix(I, J, ratio_present):\n",
    "    mask_matrix = bernoulli(ratio_present).rvs(size=(I,J)).astype(float)\n",
    "    return mask_matrix"
   ]
  },
  {
   "cell_type": "markdown",
   "metadata": {},
   "source": [
    "Running the first experiment."
   ]
  },
  {
   "cell_type": "code",
   "execution_count": 702,
   "metadata": {},
   "outputs": [
    {
     "name": "stderr",
     "output_type": "stream",
     "text": [
      "/usr/local/lib/python3.5/dist-packages/ipykernel_launcher.py:25: RuntimeWarning: divide by zero encountered in log\n",
      "/usr/local/lib/python3.5/dist-packages/ipykernel_launcher.py:25: RuntimeWarning: invalid value encountered in multiply\n"
     ]
    }
   ],
   "source": [
    "Y, W, H, L_history = run_experiment(I=10, J=20, no_iteration=300, eta = 0.01)"
   ]
  },
  {
   "cell_type": "code",
   "execution_count": 706,
   "metadata": {},
   "outputs": [
    {
     "data": {
      "image/png": "[encoded data removed]",
      "text/plain": [
       "<matplotlib.figure.Figure at 0x7fda43d0a588>"
      ]
     },
     "metadata": {},
     "output_type": "display_data"
    }
   ],
   "source": [
    "fig, axes= plot_experiment_1(Y, W, H, L_history)\n",
    "fig.savefig(\"img/atc_exp_1.png\")"
   ]
  },
  {
   "cell_type": "markdown",
   "metadata": {},
   "source": [
    "### Question 2"
   ]
  },
  {
   "cell_type": "markdown",
   "metadata": {},
   "source": [
    "Running the second experiment"
   ]
  },
  {
   "cell_type": "code",
   "execution_count": 712,
   "metadata": {},
   "outputs": [
    {
     "name": "stderr",
     "output_type": "stream",
     "text": [
      "/usr/local/lib/python3.5/dist-packages/ipykernel_launcher.py:25: RuntimeWarning: divide by zero encountered in log\n",
      "/usr/local/lib/python3.5/dist-packages/ipykernel_launcher.py:25: RuntimeWarning: invalid value encountered in multiply\n"
     ]
    }
   ],
   "source": [
    "Y, W_orig, H_orig = create_observation_matrix(I, J)\n",
    "W, H, Y_orig, mask, total_L_history = expectation_maximization(Y, .80, iterations=100)"
   ]
  },
  {
   "cell_type": "code",
   "execution_count": 713,
   "metadata": {},
   "outputs": [
    {
     "data": {
      "image/png": "[encoded data removed]",
      "text/plain": [
       "<matplotlib.figure.Figure at 0x7fda437b09e8>"
      ]
     },
     "metadata": {},
     "output_type": "display_data"
    }
   ],
   "source": [
    "plt.plot(range(len(total_L_history)),total_L_history);\n",
    "plt.savefig(\"img/em_log_likelihood\")"
   ]
  },
  {
   "cell_type": "code",
   "execution_count": 714,
   "metadata": {},
   "outputs": [
    {
     "data": {
      "image/png": "[encoded data removed]",
      "text/plain": [
       "<matplotlib.figure.Figure at 0x7fda43788780>"
      ]
     },
     "metadata": {},
     "output_type": "display_data"
    }
   ],
   "source": [
    "fig, axes = plot_expectation_maximization(Y_orig, mask, W, H)\n",
    "fig.savefig(\"img/em_reconstruction.png\")"
   ]
  },
  {
   "cell_type": "code",
   "execution_count": 636,
   "metadata": {
    "collapsed": true
   },
   "outputs": [],
   "source": [
    "atc_exp_2_results = {\"W_orig\":W_orig, \"H_orig\": H_orig, \"W_final\": W, \"H_final\": H, \"Y_orig\": Y_orig, \"mask\": mask, \"total_L_history\": total_L_history}"
   ]
  },
  {
   "cell_type": "code",
   "execution_count": 638,
   "metadata": {
    "collapsed": true
   },
   "outputs": [],
   "source": [
    "pickle.dump(atc_exp_2_results, open(\"results/atc_exp_2_results.pkl\", \"wb\"))"
   ]
  }
 ],
 "metadata": {
  "kernelspec": {
   "display_name": "Python 3",
   "language": "python",
   "name": "python3"
  },
  "language_info": {
   "codemirror_mode": {
    "name": "ipython",
    "version": 3
   },
   "file_extension": ".py",
   "mimetype": "text/x-python",
   "name": "python",
   "nbconvert_exporter": "python",
   "pygments_lexer": "ipython3",
   "version": "3.5.2"
  }
 },
 "nbformat": 4,
 "nbformat_minor": 2
}
